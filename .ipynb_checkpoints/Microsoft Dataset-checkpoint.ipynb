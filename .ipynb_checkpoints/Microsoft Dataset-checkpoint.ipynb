{
 "cells": [
  {
   "cell_type": "code",
   "execution_count": 1,
   "id": "4b3f2751",
   "metadata": {},
   "outputs": [],
   "source": [
    "import pandas as pd\n",
    "import numpy as np\n",
    "from scipy.stats import f_oneway\n",
    "from sklearn.model_selection import train_test_split\n",
    "from sklearn.preprocessing import StandardScaler\n",
    "from sklearn.linear_model import LogisticRegression\n",
    "import matplotlib.pyplot as plt\n",
    "from sklearn.metrics import confusion_matrix,precision_score,recall_score,f1_score,roc_auc_score,roc_curve\n",
    "import warnings\n",
    "warnings.filterwarnings('ignore')"
   ]
  },
  {
   "cell_type": "code",
   "execution_count": 2,
   "id": "8fb5dbc0",
   "metadata": {},
   "outputs": [
    {
     "data": {
      "text/html": [
       "<div>\n",
       "<style scoped>\n",
       "    .dataframe tbody tr th:only-of-type {\n",
       "        vertical-align: middle;\n",
       "    }\n",
       "\n",
       "    .dataframe tbody tr th {\n",
       "        vertical-align: top;\n",
       "    }\n",
       "\n",
       "    .dataframe thead th {\n",
       "        text-align: right;\n",
       "    }\n",
       "</style>\n",
       "<table border=\"1\" class=\"dataframe\">\n",
       "  <thead>\n",
       "    <tr style=\"text-align: right;\">\n",
       "      <th></th>\n",
       "      <th>MachineIdentifier</th>\n",
       "      <th>ProductName</th>\n",
       "      <th>EngineVersion</th>\n",
       "      <th>AppVersion</th>\n",
       "      <th>AvSigVersion</th>\n",
       "      <th>IsBeta</th>\n",
       "      <th>RtpStateBitfield</th>\n",
       "      <th>IsSxsPassiveMode</th>\n",
       "      <th>DefaultBrowsersIdentifier</th>\n",
       "      <th>AVProductStatesIdentifier</th>\n",
       "      <th>...</th>\n",
       "      <th>Census_FirmwareVersionIdentifier</th>\n",
       "      <th>Census_IsSecureBootEnabled</th>\n",
       "      <th>Census_IsWIMBootEnabled</th>\n",
       "      <th>Census_IsVirtualDevice</th>\n",
       "      <th>Census_IsTouchEnabled</th>\n",
       "      <th>Census_IsPenCapable</th>\n",
       "      <th>Census_IsAlwaysOnAlwaysConnectedCapable</th>\n",
       "      <th>Wdft_IsGamer</th>\n",
       "      <th>Wdft_RegionIdentifier</th>\n",
       "      <th>HasDetections</th>\n",
       "    </tr>\n",
       "  </thead>\n",
       "  <tbody>\n",
       "    <tr>\n",
       "      <th>0</th>\n",
       "      <td>0000028988387b115f69f31a3bf04f09</td>\n",
       "      <td>win8defender</td>\n",
       "      <td>1.1.15100.1</td>\n",
       "      <td>4.18.1807.18075</td>\n",
       "      <td>1.273.1735.0</td>\n",
       "      <td>0</td>\n",
       "      <td>7.0</td>\n",
       "      <td>0</td>\n",
       "      <td>NaN</td>\n",
       "      <td>53447.0</td>\n",
       "      <td>...</td>\n",
       "      <td>36144.0</td>\n",
       "      <td>0</td>\n",
       "      <td>NaN</td>\n",
       "      <td>0.0</td>\n",
       "      <td>0</td>\n",
       "      <td>0</td>\n",
       "      <td>0.0</td>\n",
       "      <td>0.0</td>\n",
       "      <td>10.0</td>\n",
       "      <td>0</td>\n",
       "    </tr>\n",
       "    <tr>\n",
       "      <th>1</th>\n",
       "      <td>000007535c3f730efa9ea0b7ef1bd645</td>\n",
       "      <td>win8defender</td>\n",
       "      <td>1.1.14600.4</td>\n",
       "      <td>4.13.17134.1</td>\n",
       "      <td>1.263.48.0</td>\n",
       "      <td>0</td>\n",
       "      <td>7.0</td>\n",
       "      <td>0</td>\n",
       "      <td>NaN</td>\n",
       "      <td>53447.0</td>\n",
       "      <td>...</td>\n",
       "      <td>57858.0</td>\n",
       "      <td>0</td>\n",
       "      <td>NaN</td>\n",
       "      <td>0.0</td>\n",
       "      <td>0</td>\n",
       "      <td>0</td>\n",
       "      <td>0.0</td>\n",
       "      <td>0.0</td>\n",
       "      <td>8.0</td>\n",
       "      <td>0</td>\n",
       "    </tr>\n",
       "    <tr>\n",
       "      <th>2</th>\n",
       "      <td>000007905a28d863f6d0d597892cd692</td>\n",
       "      <td>win8defender</td>\n",
       "      <td>1.1.15100.1</td>\n",
       "      <td>4.18.1807.18075</td>\n",
       "      <td>1.273.1341.0</td>\n",
       "      <td>0</td>\n",
       "      <td>7.0</td>\n",
       "      <td>0</td>\n",
       "      <td>NaN</td>\n",
       "      <td>53447.0</td>\n",
       "      <td>...</td>\n",
       "      <td>52682.0</td>\n",
       "      <td>0</td>\n",
       "      <td>NaN</td>\n",
       "      <td>0.0</td>\n",
       "      <td>0</td>\n",
       "      <td>0</td>\n",
       "      <td>0.0</td>\n",
       "      <td>0.0</td>\n",
       "      <td>3.0</td>\n",
       "      <td>0</td>\n",
       "    </tr>\n",
       "    <tr>\n",
       "      <th>3</th>\n",
       "      <td>00000b11598a75ea8ba1beea8459149f</td>\n",
       "      <td>win8defender</td>\n",
       "      <td>1.1.15100.1</td>\n",
       "      <td>4.18.1807.18075</td>\n",
       "      <td>1.273.1527.0</td>\n",
       "      <td>0</td>\n",
       "      <td>7.0</td>\n",
       "      <td>0</td>\n",
       "      <td>NaN</td>\n",
       "      <td>53447.0</td>\n",
       "      <td>...</td>\n",
       "      <td>20050.0</td>\n",
       "      <td>0</td>\n",
       "      <td>NaN</td>\n",
       "      <td>0.0</td>\n",
       "      <td>0</td>\n",
       "      <td>0</td>\n",
       "      <td>0.0</td>\n",
       "      <td>0.0</td>\n",
       "      <td>3.0</td>\n",
       "      <td>1</td>\n",
       "    </tr>\n",
       "    <tr>\n",
       "      <th>4</th>\n",
       "      <td>000014a5f00daa18e76b81417eeb99fc</td>\n",
       "      <td>win8defender</td>\n",
       "      <td>1.1.15100.1</td>\n",
       "      <td>4.18.1807.18075</td>\n",
       "      <td>1.273.1379.0</td>\n",
       "      <td>0</td>\n",
       "      <td>7.0</td>\n",
       "      <td>0</td>\n",
       "      <td>NaN</td>\n",
       "      <td>53447.0</td>\n",
       "      <td>...</td>\n",
       "      <td>19844.0</td>\n",
       "      <td>0</td>\n",
       "      <td>0.0</td>\n",
       "      <td>0.0</td>\n",
       "      <td>0</td>\n",
       "      <td>0</td>\n",
       "      <td>0.0</td>\n",
       "      <td>0.0</td>\n",
       "      <td>1.0</td>\n",
       "      <td>1</td>\n",
       "    </tr>\n",
       "    <tr>\n",
       "      <th>...</th>\n",
       "      <td>...</td>\n",
       "      <td>...</td>\n",
       "      <td>...</td>\n",
       "      <td>...</td>\n",
       "      <td>...</td>\n",
       "      <td>...</td>\n",
       "      <td>...</td>\n",
       "      <td>...</td>\n",
       "      <td>...</td>\n",
       "      <td>...</td>\n",
       "      <td>...</td>\n",
       "      <td>...</td>\n",
       "      <td>...</td>\n",
       "      <td>...</td>\n",
       "      <td>...</td>\n",
       "      <td>...</td>\n",
       "      <td>...</td>\n",
       "      <td>...</td>\n",
       "      <td>...</td>\n",
       "      <td>...</td>\n",
       "      <td>...</td>\n",
       "    </tr>\n",
       "    <tr>\n",
       "      <th>56751</th>\n",
       "      <td>01a3aaeba82aa3de04506d45fe2f8293</td>\n",
       "      <td>win8defender</td>\n",
       "      <td>1.1.15100.1</td>\n",
       "      <td>4.18.1807.18075</td>\n",
       "      <td>1.273.1056.0</td>\n",
       "      <td>0</td>\n",
       "      <td>7.0</td>\n",
       "      <td>0</td>\n",
       "      <td>NaN</td>\n",
       "      <td>53447.0</td>\n",
       "      <td>...</td>\n",
       "      <td>63568.0</td>\n",
       "      <td>1</td>\n",
       "      <td>NaN</td>\n",
       "      <td>0.0</td>\n",
       "      <td>0</td>\n",
       "      <td>0</td>\n",
       "      <td>0.0</td>\n",
       "      <td>1.0</td>\n",
       "      <td>3.0</td>\n",
       "      <td>0</td>\n",
       "    </tr>\n",
       "    <tr>\n",
       "      <th>56752</th>\n",
       "      <td>01a3aef1a1af51ef3e4aa0a1c99bf8b6</td>\n",
       "      <td>win8defender</td>\n",
       "      <td>1.1.15100.1</td>\n",
       "      <td>4.18.1807.18075</td>\n",
       "      <td>1.273.689.0</td>\n",
       "      <td>0</td>\n",
       "      <td>7.0</td>\n",
       "      <td>0</td>\n",
       "      <td>NaN</td>\n",
       "      <td>41571.0</td>\n",
       "      <td>...</td>\n",
       "      <td>33211.0</td>\n",
       "      <td>1</td>\n",
       "      <td>0.0</td>\n",
       "      <td>0.0</td>\n",
       "      <td>0</td>\n",
       "      <td>0</td>\n",
       "      <td>0.0</td>\n",
       "      <td>1.0</td>\n",
       "      <td>1.0</td>\n",
       "      <td>1</td>\n",
       "    </tr>\n",
       "    <tr>\n",
       "      <th>56753</th>\n",
       "      <td>01a3af52c05b6af7d971d5f3092c3a80</td>\n",
       "      <td>win8defender</td>\n",
       "      <td>1.1.15200.1</td>\n",
       "      <td>4.18.1807.18075</td>\n",
       "      <td>1.275.1454.0</td>\n",
       "      <td>0</td>\n",
       "      <td>7.0</td>\n",
       "      <td>0</td>\n",
       "      <td>NaN</td>\n",
       "      <td>53447.0</td>\n",
       "      <td>...</td>\n",
       "      <td>44032.0</td>\n",
       "      <td>0</td>\n",
       "      <td>NaN</td>\n",
       "      <td>0.0</td>\n",
       "      <td>0</td>\n",
       "      <td>0</td>\n",
       "      <td>0.0</td>\n",
       "      <td>1.0</td>\n",
       "      <td>11.0</td>\n",
       "      <td>0</td>\n",
       "    </tr>\n",
       "    <tr>\n",
       "      <th>56754</th>\n",
       "      <td>01a3b0c12114367eb99eaa2fac6b754c</td>\n",
       "      <td>win8defender</td>\n",
       "      <td>1.1.15100.1</td>\n",
       "      <td>4.18.1807.18075</td>\n",
       "      <td>1.273.1527.0</td>\n",
       "      <td>0</td>\n",
       "      <td>7.0</td>\n",
       "      <td>0</td>\n",
       "      <td>NaN</td>\n",
       "      <td>43856.0</td>\n",
       "      <td>...</td>\n",
       "      <td>60903.0</td>\n",
       "      <td>0</td>\n",
       "      <td>0.0</td>\n",
       "      <td>0.0</td>\n",
       "      <td>0</td>\n",
       "      <td>0</td>\n",
       "      <td>0.0</td>\n",
       "      <td>0.0</td>\n",
       "      <td>8.0</td>\n",
       "      <td>1</td>\n",
       "    </tr>\n",
       "    <tr>\n",
       "      <th>56755</th>\n",
       "      <td>01a3b14d2c2d4f1bc85204d10713884d</td>\n",
       "      <td>win8defender</td>\n",
       "      <td>1.1.15200.1</td>\n",
       "      <td>4.18.1807.18075</td>\n",
       "      <td>1.275.1573.0</td>\n",
       "      <td>0</td>\n",
       "      <td>7.0</td>\n",
       "      <td>0</td>\n",
       "      <td>NaN</td>\n",
       "      <td>53447.0</td>\n",
       "      <td>...</td>\n",
       "      <td>63370.0</td>\n",
       "      <td>0</td>\n",
       "      <td>0.0</td>\n",
       "      <td>0.0</td>\n",
       "      <td>0</td>\n",
       "      <td>0</td>\n",
       "      <td>0.0</td>\n",
       "      <td>1.0</td>\n",
       "      <td>15.0</td>\n",
       "      <td>1</td>\n",
       "    </tr>\n",
       "  </tbody>\n",
       "</table>\n",
       "<p>56756 rows × 83 columns</p>\n",
       "</div>"
      ],
      "text/plain": [
       "                      MachineIdentifier   ProductName EngineVersion  \\\n",
       "0      0000028988387b115f69f31a3bf04f09  win8defender   1.1.15100.1   \n",
       "1      000007535c3f730efa9ea0b7ef1bd645  win8defender   1.1.14600.4   \n",
       "2      000007905a28d863f6d0d597892cd692  win8defender   1.1.15100.1   \n",
       "3      00000b11598a75ea8ba1beea8459149f  win8defender   1.1.15100.1   \n",
       "4      000014a5f00daa18e76b81417eeb99fc  win8defender   1.1.15100.1   \n",
       "...                                 ...           ...           ...   \n",
       "56751  01a3aaeba82aa3de04506d45fe2f8293  win8defender   1.1.15100.1   \n",
       "56752  01a3aef1a1af51ef3e4aa0a1c99bf8b6  win8defender   1.1.15100.1   \n",
       "56753  01a3af52c05b6af7d971d5f3092c3a80  win8defender   1.1.15200.1   \n",
       "56754  01a3b0c12114367eb99eaa2fac6b754c  win8defender   1.1.15100.1   \n",
       "56755  01a3b14d2c2d4f1bc85204d10713884d  win8defender   1.1.15200.1   \n",
       "\n",
       "            AppVersion  AvSigVersion  IsBeta  RtpStateBitfield  \\\n",
       "0      4.18.1807.18075  1.273.1735.0       0               7.0   \n",
       "1         4.13.17134.1    1.263.48.0       0               7.0   \n",
       "2      4.18.1807.18075  1.273.1341.0       0               7.0   \n",
       "3      4.18.1807.18075  1.273.1527.0       0               7.0   \n",
       "4      4.18.1807.18075  1.273.1379.0       0               7.0   \n",
       "...                ...           ...     ...               ...   \n",
       "56751  4.18.1807.18075  1.273.1056.0       0               7.0   \n",
       "56752  4.18.1807.18075   1.273.689.0       0               7.0   \n",
       "56753  4.18.1807.18075  1.275.1454.0       0               7.0   \n",
       "56754  4.18.1807.18075  1.273.1527.0       0               7.0   \n",
       "56755  4.18.1807.18075  1.275.1573.0       0               7.0   \n",
       "\n",
       "       IsSxsPassiveMode  DefaultBrowsersIdentifier  AVProductStatesIdentifier  \\\n",
       "0                     0                        NaN                    53447.0   \n",
       "1                     0                        NaN                    53447.0   \n",
       "2                     0                        NaN                    53447.0   \n",
       "3                     0                        NaN                    53447.0   \n",
       "4                     0                        NaN                    53447.0   \n",
       "...                 ...                        ...                        ...   \n",
       "56751                 0                        NaN                    53447.0   \n",
       "56752                 0                        NaN                    41571.0   \n",
       "56753                 0                        NaN                    53447.0   \n",
       "56754                 0                        NaN                    43856.0   \n",
       "56755                 0                        NaN                    53447.0   \n",
       "\n",
       "       ...  Census_FirmwareVersionIdentifier  Census_IsSecureBootEnabled  \\\n",
       "0      ...                           36144.0                           0   \n",
       "1      ...                           57858.0                           0   \n",
       "2      ...                           52682.0                           0   \n",
       "3      ...                           20050.0                           0   \n",
       "4      ...                           19844.0                           0   \n",
       "...    ...                               ...                         ...   \n",
       "56751  ...                           63568.0                           1   \n",
       "56752  ...                           33211.0                           1   \n",
       "56753  ...                           44032.0                           0   \n",
       "56754  ...                           60903.0                           0   \n",
       "56755  ...                           63370.0                           0   \n",
       "\n",
       "       Census_IsWIMBootEnabled  Census_IsVirtualDevice  Census_IsTouchEnabled  \\\n",
       "0                          NaN                     0.0                      0   \n",
       "1                          NaN                     0.0                      0   \n",
       "2                          NaN                     0.0                      0   \n",
       "3                          NaN                     0.0                      0   \n",
       "4                          0.0                     0.0                      0   \n",
       "...                        ...                     ...                    ...   \n",
       "56751                      NaN                     0.0                      0   \n",
       "56752                      0.0                     0.0                      0   \n",
       "56753                      NaN                     0.0                      0   \n",
       "56754                      0.0                     0.0                      0   \n",
       "56755                      0.0                     0.0                      0   \n",
       "\n",
       "       Census_IsPenCapable  Census_IsAlwaysOnAlwaysConnectedCapable  \\\n",
       "0                        0                                      0.0   \n",
       "1                        0                                      0.0   \n",
       "2                        0                                      0.0   \n",
       "3                        0                                      0.0   \n",
       "4                        0                                      0.0   \n",
       "...                    ...                                      ...   \n",
       "56751                    0                                      0.0   \n",
       "56752                    0                                      0.0   \n",
       "56753                    0                                      0.0   \n",
       "56754                    0                                      0.0   \n",
       "56755                    0                                      0.0   \n",
       "\n",
       "       Wdft_IsGamer Wdft_RegionIdentifier HasDetections  \n",
       "0               0.0                  10.0             0  \n",
       "1               0.0                   8.0             0  \n",
       "2               0.0                   3.0             0  \n",
       "3               0.0                   3.0             1  \n",
       "4               0.0                   1.0             1  \n",
       "...             ...                   ...           ...  \n",
       "56751           1.0                   3.0             0  \n",
       "56752           1.0                   1.0             1  \n",
       "56753           1.0                  11.0             0  \n",
       "56754           0.0                   8.0             1  \n",
       "56755           1.0                  15.0             1  \n",
       "\n",
       "[56756 rows x 83 columns]"
      ]
     },
     "execution_count": 2,
     "metadata": {},
     "output_type": "execute_result"
    }
   ],
   "source": [
    "mp_df=pd.read_csv('Microsoft_data.csv')\n",
    "mp_df"
   ]
  },
  {
   "cell_type": "code",
   "execution_count": 3,
   "id": "d81ea362",
   "metadata": {},
   "outputs": [
    {
     "data": {
      "text/plain": [
       "(56756, 83)"
      ]
     },
     "execution_count": 3,
     "metadata": {},
     "output_type": "execute_result"
    }
   ],
   "source": [
    "mp_df.shape"
   ]
  },
  {
   "cell_type": "code",
   "execution_count": 4,
   "id": "c8352e92",
   "metadata": {},
   "outputs": [],
   "source": [
    "y=mp_df['HasDetections']"
   ]
  },
  {
   "cell_type": "code",
   "execution_count": 5,
   "id": "3ea2f92d",
   "metadata": {},
   "outputs": [
    {
     "data": {
      "text/plain": [
       "MachineIdentifier                             0\n",
       "ProductName                                   0\n",
       "EngineVersion                                 0\n",
       "AppVersion                                    0\n",
       "AvSigVersion                                  0\n",
       "                                           ... \n",
       "Census_IsPenCapable                           0\n",
       "Census_IsAlwaysOnAlwaysConnectedCapable     511\n",
       "Wdft_IsGamer                               1931\n",
       "Wdft_RegionIdentifier                      1931\n",
       "HasDetections                                 0\n",
       "Length: 83, dtype: int64"
      ]
     },
     "execution_count": 5,
     "metadata": {},
     "output_type": "execute_result"
    }
   ],
   "source": [
    "mp_df.isnull().sum()"
   ]
  },
  {
   "cell_type": "code",
   "execution_count": 6,
   "id": "bf1d4a6f",
   "metadata": {},
   "outputs": [
    {
     "data": {
      "text/html": [
       "<div>\n",
       "<style scoped>\n",
       "    .dataframe tbody tr th:only-of-type {\n",
       "        vertical-align: middle;\n",
       "    }\n",
       "\n",
       "    .dataframe tbody tr th {\n",
       "        vertical-align: top;\n",
       "    }\n",
       "\n",
       "    .dataframe thead th {\n",
       "        text-align: right;\n",
       "    }\n",
       "</style>\n",
       "<table border=\"1\" class=\"dataframe\">\n",
       "  <thead>\n",
       "    <tr style=\"text-align: right;\">\n",
       "      <th></th>\n",
       "      <th>col_name</th>\n",
       "      <th>na_pc</th>\n",
       "    </tr>\n",
       "  </thead>\n",
       "  <tbody>\n",
       "    <tr>\n",
       "      <th>MachineIdentifier</th>\n",
       "      <td>MachineIdentifier</td>\n",
       "      <td>0.000000</td>\n",
       "    </tr>\n",
       "    <tr>\n",
       "      <th>ProductName</th>\n",
       "      <td>ProductName</td>\n",
       "      <td>0.000000</td>\n",
       "    </tr>\n",
       "    <tr>\n",
       "      <th>EngineVersion</th>\n",
       "      <td>EngineVersion</td>\n",
       "      <td>0.000000</td>\n",
       "    </tr>\n",
       "    <tr>\n",
       "      <th>AppVersion</th>\n",
       "      <td>AppVersion</td>\n",
       "      <td>0.000000</td>\n",
       "    </tr>\n",
       "    <tr>\n",
       "      <th>AvSigVersion</th>\n",
       "      <td>AvSigVersion</td>\n",
       "      <td>0.000000</td>\n",
       "    </tr>\n",
       "    <tr>\n",
       "      <th>...</th>\n",
       "      <td>...</td>\n",
       "      <td>...</td>\n",
       "    </tr>\n",
       "    <tr>\n",
       "      <th>Census_IsPenCapable</th>\n",
       "      <td>Census_IsPenCapable</td>\n",
       "      <td>0.000000</td>\n",
       "    </tr>\n",
       "    <tr>\n",
       "      <th>Census_IsAlwaysOnAlwaysConnectedCapable</th>\n",
       "      <td>Census_IsAlwaysOnAlwaysConnectedCapable</td>\n",
       "      <td>0.900345</td>\n",
       "    </tr>\n",
       "    <tr>\n",
       "      <th>Wdft_IsGamer</th>\n",
       "      <td>Wdft_IsGamer</td>\n",
       "      <td>3.402283</td>\n",
       "    </tr>\n",
       "    <tr>\n",
       "      <th>Wdft_RegionIdentifier</th>\n",
       "      <td>Wdft_RegionIdentifier</td>\n",
       "      <td>3.402283</td>\n",
       "    </tr>\n",
       "    <tr>\n",
       "      <th>HasDetections</th>\n",
       "      <td>HasDetections</td>\n",
       "      <td>0.000000</td>\n",
       "    </tr>\n",
       "  </tbody>\n",
       "</table>\n",
       "<p>83 rows × 2 columns</p>\n",
       "</div>"
      ],
      "text/plain": [
       "                                                                        col_name  \\\n",
       "MachineIdentifier                                              MachineIdentifier   \n",
       "ProductName                                                          ProductName   \n",
       "EngineVersion                                                      EngineVersion   \n",
       "AppVersion                                                            AppVersion   \n",
       "AvSigVersion                                                        AvSigVersion   \n",
       "...                                                                          ...   \n",
       "Census_IsPenCapable                                          Census_IsPenCapable   \n",
       "Census_IsAlwaysOnAlwaysConnectedCapable  Census_IsAlwaysOnAlwaysConnectedCapable   \n",
       "Wdft_IsGamer                                                        Wdft_IsGamer   \n",
       "Wdft_RegionIdentifier                                      Wdft_RegionIdentifier   \n",
       "HasDetections                                                      HasDetections   \n",
       "\n",
       "                                            na_pc  \n",
       "MachineIdentifier                        0.000000  \n",
       "ProductName                              0.000000  \n",
       "EngineVersion                            0.000000  \n",
       "AppVersion                               0.000000  \n",
       "AvSigVersion                             0.000000  \n",
       "...                                           ...  \n",
       "Census_IsPenCapable                      0.000000  \n",
       "Census_IsAlwaysOnAlwaysConnectedCapable  0.900345  \n",
       "Wdft_IsGamer                             3.402283  \n",
       "Wdft_RegionIdentifier                    3.402283  \n",
       "HasDetections                            0.000000  \n",
       "\n",
       "[83 rows x 2 columns]"
      ]
     },
     "execution_count": 6,
     "metadata": {},
     "output_type": "execute_result"
    }
   ],
   "source": [
    "na_df=pd.DataFrame({'col_name':mp_df.columns,'na_pc':mp_df.isnull().sum()/mp_df.shape[0]*100})\n",
    "\n",
    "na_df"
   ]
  },
  {
   "cell_type": "code",
   "execution_count": 7,
   "id": "81e05464",
   "metadata": {},
   "outputs": [
    {
     "data": {
      "text/plain": [
       "['DefaultBrowsersIdentifier',\n",
       " 'PuaMode',\n",
       " 'Census_ProcessorClass',\n",
       " 'Census_InternalBatteryType',\n",
       " 'Census_IsFlightingInternal',\n",
       " 'Census_ThresholdOptIn',\n",
       " 'Census_IsWIMBootEnabled']"
      ]
     },
     "execution_count": 7,
     "metadata": {},
     "output_type": "execute_result"
    }
   ],
   "source": [
    "col_grt50pc_nas=list(na_df[na_df['na_pc']>50]['col_name'])\n",
    "\n",
    "col_grt50pc_nas"
   ]
  },
  {
   "cell_type": "code",
   "execution_count": 8,
   "id": "1b19dd1b",
   "metadata": {},
   "outputs": [
    {
     "data": {
      "text/plain": [
       "['MachineIdentifier',\n",
       " 'IsBeta',\n",
       " 'AutoSampleOptIn',\n",
       " 'PuaMode',\n",
       " 'Census_IsFlightingInternal',\n",
       " 'Census_IsFlightsDisabled',\n",
       " 'Census_IsWIMBootEnabled',\n",
       " 'DefaultBrowsersIdentifier',\n",
       " 'PuaMode',\n",
       " 'Census_ProcessorClass',\n",
       " 'Census_InternalBatteryType',\n",
       " 'Census_IsFlightingInternal',\n",
       " 'Census_ThresholdOptIn',\n",
       " 'Census_IsWIMBootEnabled',\n",
       " 'HasDetections']"
      ]
     },
     "execution_count": 8,
     "metadata": {},
     "output_type": "execute_result"
    }
   ],
   "source": [
    "#identifying the columns tp drop\n",
    "cols_to_drop=[]\n",
    "for col in mp_df.columns:\n",
    "    if mp_df[col].nunique()==1 or mp_df[col].nunique()==mp_df.shape[0]:\n",
    "        cols_to_drop.append(col)\n",
    "        \n",
    "cols_to_drop+=col_grt50pc_nas\n",
    "cols_to_drop.append('HasDetections')\n",
    "cols_to_drop"
   ]
  },
  {
   "cell_type": "code",
   "execution_count": 9,
   "id": "27595757",
   "metadata": {},
   "outputs": [],
   "source": [
    "mp_df.drop(columns=cols_to_drop,inplace=True)# dropping all the identified columns(from the above steps"
   ]
  },
  {
   "cell_type": "code",
   "execution_count": 10,
   "id": "9e08b5d2",
   "metadata": {},
   "outputs": [
    {
     "name": "stdout",
     "output_type": "stream",
     "text": [
      "['ProductName', 'EngineVersion', 'AppVersion', 'AvSigVersion', 'Platform', 'Processor', 'OsVer', 'OsPlatformSubRelease', 'OsBuildLab', 'SkuEdition', 'SmartScreen', 'Census_MDC2FormFactor', 'Census_DeviceFamily', 'Census_PrimaryDiskTypeName', 'Census_ChassisTypeName', 'Census_PowerPlatformRoleName', 'Census_OSVersion', 'Census_OSArchitecture', 'Census_OSBranch', 'Census_OSEdition', 'Census_OSSkuName', 'Census_OSInstallTypeName', 'Census_OSWUAutoUpdateOptionsName', 'Census_GenuineStateName', 'Census_ActivationChannel', 'Census_FlightRing']\n"
     ]
    },
    {
     "data": {
      "text/plain": [
       "['RtpStateBitfield',\n",
       " 'IsSxsPassiveMode',\n",
       " 'AVProductStatesIdentifier',\n",
       " 'AVProductsInstalled',\n",
       " 'AVProductsEnabled',\n",
       " 'HasTpm',\n",
       " 'CountryIdentifier',\n",
       " 'CityIdentifier',\n",
       " 'OrganizationIdentifier',\n",
       " 'GeoNameIdentifier',\n",
       " 'LocaleEnglishNameIdentifier',\n",
       " 'OsBuild',\n",
       " 'OsSuite',\n",
       " 'IsProtected',\n",
       " 'SMode',\n",
       " 'IeVerIdentifier',\n",
       " 'Firewall',\n",
       " 'UacLuaenable',\n",
       " 'Census_OEMNameIdentifier',\n",
       " 'Census_OEMModelIdentifier',\n",
       " 'Census_ProcessorCoreCount',\n",
       " 'Census_ProcessorManufacturerIdentifier',\n",
       " 'Census_ProcessorModelIdentifier',\n",
       " 'Census_PrimaryDiskTotalCapacity',\n",
       " 'Census_SystemVolumeTotalCapacity',\n",
       " 'Census_HasOpticalDiskDrive',\n",
       " 'Census_TotalPhysicalRAM',\n",
       " 'Census_InternalPrimaryDiagonalDisplaySizeInInches',\n",
       " 'Census_InternalPrimaryDisplayResolutionHorizontal',\n",
       " 'Census_InternalPrimaryDisplayResolutionVertical',\n",
       " 'Census_InternalBatteryNumberOfCharges',\n",
       " 'Census_OSBuildNumber',\n",
       " 'Census_OSBuildRevision',\n",
       " 'Census_OSInstallLanguageIdentifier',\n",
       " 'Census_OSUILocaleIdentifier',\n",
       " 'Census_IsPortableOperatingSystem',\n",
       " 'Census_FirmwareManufacturerIdentifier',\n",
       " 'Census_FirmwareVersionIdentifier',\n",
       " 'Census_IsSecureBootEnabled',\n",
       " 'Census_IsVirtualDevice',\n",
       " 'Census_IsTouchEnabled',\n",
       " 'Census_IsPenCapable',\n",
       " 'Census_IsAlwaysOnAlwaysConnectedCapable',\n",
       " 'Wdft_IsGamer',\n",
       " 'Wdft_RegionIdentifier']"
      ]
     },
     "execution_count": 10,
     "metadata": {},
     "output_type": "execute_result"
    }
   ],
   "source": [
    "cat_cols=[col for col in mp_df.columns if mp_df[col].dtype=='object']\n",
    "con_cols=[col for col in mp_df.columns if mp_df[col].dtype=='int64' or mp_df[col].dtype=='float64']\n",
    "\n",
    "print(cat_cols)\n",
    "con_cols"
   ]
  },
  {
   "cell_type": "code",
   "execution_count": 27,
   "id": "0f532843",
   "metadata": {},
   "outputs": [],
   "source": [
    "#train-test split\n",
    "\n",
    "X_train,X_test,Y_train,Y_test=train_test_split(mp_df,y,test_size=0.2,random_state=42)"
   ]
  },
  {
   "cell_type": "code",
   "execution_count": 28,
   "id": "64d88398",
   "metadata": {},
   "outputs": [],
   "source": [
    "#filling the missing values(mean for continuous variable,mode for continuous variable)\n",
    "\n",
    "for col in con_cols:\n",
    "    X_train[col].fillna(X_train[col].mean(),inplace=True)\n",
    "    X_test[col].fillna(X_train[col].mean(),inplace=True)\n",
    "    \n",
    "for col in cat_cols:\n",
    "    X_train[col].fillna(X_train[col].mode()[0],inplace=True)\n",
    "    X_test[col].fillna(X_train[col].mode()[0],inplace=True)"
   ]
  },
  {
   "cell_type": "code",
   "execution_count": 29,
   "id": "4ed57f11",
   "metadata": {},
   "outputs": [],
   "source": [
    "#scaling the continuous variable\n",
    "\n",
    "scaler=StandardScaler()\n",
    "for col in con_cols:\n",
    "    X_train[col]=scaler.fit_transform(np.array(X_train[col]).reshape(-1,1))\n",
    "    X_test[col]=scaler.transform(np.array(X_test[col]).reshape(-1,1))"
   ]
  },
  {
   "cell_type": "code",
   "execution_count": 30,
   "id": "58b50c15",
   "metadata": {},
   "outputs": [],
   "source": [
    "#encoding the categorical variables\n",
    "\n",
    "oe_train=pd.get_dummies(X_train[cat_cols])\n",
    "oe_test=pd.get_dummies(X_test[cat_cols])"
   ]
  },
  {
   "cell_type": "code",
   "execution_count": 31,
   "id": "0f7111f3",
   "metadata": {},
   "outputs": [],
   "source": [
    "oe_train_final,oe_test_final=oe_train.align(oe_test,join='inner',axis=1)"
   ]
  },
  {
   "cell_type": "code",
   "execution_count": 32,
   "id": "36548497",
   "metadata": {},
   "outputs": [
    {
     "data": {
      "text/html": [
       "<div>\n",
       "<style scoped>\n",
       "    .dataframe tbody tr th:only-of-type {\n",
       "        vertical-align: middle;\n",
       "    }\n",
       "\n",
       "    .dataframe tbody tr th {\n",
       "        vertical-align: top;\n",
       "    }\n",
       "\n",
       "    .dataframe thead th {\n",
       "        text-align: right;\n",
       "    }\n",
       "</style>\n",
       "<table border=\"1\" class=\"dataframe\">\n",
       "  <thead>\n",
       "    <tr style=\"text-align: right;\">\n",
       "      <th></th>\n",
       "      <th>RtpStateBitfield</th>\n",
       "      <th>IsSxsPassiveMode</th>\n",
       "      <th>AVProductStatesIdentifier</th>\n",
       "      <th>AVProductsInstalled</th>\n",
       "      <th>AVProductsEnabled</th>\n",
       "      <th>HasTpm</th>\n",
       "      <th>CountryIdentifier</th>\n",
       "      <th>CityIdentifier</th>\n",
       "      <th>OrganizationIdentifier</th>\n",
       "      <th>GeoNameIdentifier</th>\n",
       "      <th>...</th>\n",
       "      <th>Census_ActivationChannel_Retail:TB:Eval</th>\n",
       "      <th>Census_ActivationChannel_Volume:GVLK</th>\n",
       "      <th>Census_ActivationChannel_Volume:MAK</th>\n",
       "      <th>Census_FlightRing_Disabled</th>\n",
       "      <th>Census_FlightRing_NOT_SET</th>\n",
       "      <th>Census_FlightRing_RP</th>\n",
       "      <th>Census_FlightRing_Retail</th>\n",
       "      <th>Census_FlightRing_Unknown</th>\n",
       "      <th>Census_FlightRing_WIF</th>\n",
       "      <th>Census_FlightRing_WIS</th>\n",
       "    </tr>\n",
       "  </thead>\n",
       "  <tbody>\n",
       "    <tr>\n",
       "      <th>5329</th>\n",
       "      <td>0.15376</td>\n",
       "      <td>-0.13587</td>\n",
       "      <td>0.397518</td>\n",
       "      <td>-0.621425</td>\n",
       "      <td>-0.122293</td>\n",
       "      <td>0.11405</td>\n",
       "      <td>-1.420443</td>\n",
       "      <td>-0.235400</td>\n",
       "      <td>4.556752e-01</td>\n",
       "      <td>1.203019</td>\n",
       "      <td>...</td>\n",
       "      <td>0</td>\n",
       "      <td>0</td>\n",
       "      <td>0</td>\n",
       "      <td>0</td>\n",
       "      <td>0</td>\n",
       "      <td>0</td>\n",
       "      <td>1</td>\n",
       "      <td>0</td>\n",
       "      <td>0</td>\n",
       "      <td>0</td>\n",
       "    </tr>\n",
       "    <tr>\n",
       "      <th>39862</th>\n",
       "      <td>0.15376</td>\n",
       "      <td>-0.13587</td>\n",
       "      <td>-2.864348</td>\n",
       "      <td>1.312866</td>\n",
       "      <td>-0.122293</td>\n",
       "      <td>0.11405</td>\n",
       "      <td>-1.070559</td>\n",
       "      <td>1.034914</td>\n",
       "      <td>-1.473825e+00</td>\n",
       "      <td>-1.321734</td>\n",
       "      <td>...</td>\n",
       "      <td>0</td>\n",
       "      <td>0</td>\n",
       "      <td>0</td>\n",
       "      <td>0</td>\n",
       "      <td>0</td>\n",
       "      <td>0</td>\n",
       "      <td>1</td>\n",
       "      <td>0</td>\n",
       "      <td>0</td>\n",
       "      <td>0</td>\n",
       "    </tr>\n",
       "    <tr>\n",
       "      <th>46411</th>\n",
       "      <td>0.15376</td>\n",
       "      <td>-0.13587</td>\n",
       "      <td>-2.864348</td>\n",
       "      <td>1.312866</td>\n",
       "      <td>-0.122293</td>\n",
       "      <td>0.11405</td>\n",
       "      <td>0.424402</td>\n",
       "      <td>-0.694570</td>\n",
       "      <td>4.957843e+00</td>\n",
       "      <td>-0.076189</td>\n",
       "      <td>...</td>\n",
       "      <td>0</td>\n",
       "      <td>0</td>\n",
       "      <td>0</td>\n",
       "      <td>0</td>\n",
       "      <td>0</td>\n",
       "      <td>0</td>\n",
       "      <td>1</td>\n",
       "      <td>0</td>\n",
       "      <td>0</td>\n",
       "      <td>0</td>\n",
       "    </tr>\n",
       "    <tr>\n",
       "      <th>31801</th>\n",
       "      <td>0.15376</td>\n",
       "      <td>-0.13587</td>\n",
       "      <td>1.066064</td>\n",
       "      <td>-0.621425</td>\n",
       "      <td>-0.122293</td>\n",
       "      <td>0.11405</td>\n",
       "      <td>0.996940</td>\n",
       "      <td>0.885350</td>\n",
       "      <td>4.556752e-01</td>\n",
       "      <td>0.462425</td>\n",
       "      <td>...</td>\n",
       "      <td>0</td>\n",
       "      <td>0</td>\n",
       "      <td>0</td>\n",
       "      <td>0</td>\n",
       "      <td>0</td>\n",
       "      <td>0</td>\n",
       "      <td>1</td>\n",
       "      <td>0</td>\n",
       "      <td>0</td>\n",
       "      <td>0</td>\n",
       "    </tr>\n",
       "    <tr>\n",
       "      <th>3693</th>\n",
       "      <td>0.15376</td>\n",
       "      <td>-0.13587</td>\n",
       "      <td>0.397518</td>\n",
       "      <td>-0.621425</td>\n",
       "      <td>-0.122293</td>\n",
       "      <td>0.11405</td>\n",
       "      <td>0.806094</td>\n",
       "      <td>0.791279</td>\n",
       "      <td>-1.473825e+00</td>\n",
       "      <td>0.271665</td>\n",
       "      <td>...</td>\n",
       "      <td>0</td>\n",
       "      <td>1</td>\n",
       "      <td>0</td>\n",
       "      <td>0</td>\n",
       "      <td>0</td>\n",
       "      <td>0</td>\n",
       "      <td>1</td>\n",
       "      <td>0</td>\n",
       "      <td>0</td>\n",
       "      <td>0</td>\n",
       "    </tr>\n",
       "    <tr>\n",
       "      <th>...</th>\n",
       "      <td>...</td>\n",
       "      <td>...</td>\n",
       "      <td>...</td>\n",
       "      <td>...</td>\n",
       "      <td>...</td>\n",
       "      <td>...</td>\n",
       "      <td>...</td>\n",
       "      <td>...</td>\n",
       "      <td>...</td>\n",
       "      <td>...</td>\n",
       "      <td>...</td>\n",
       "      <td>...</td>\n",
       "      <td>...</td>\n",
       "      <td>...</td>\n",
       "      <td>...</td>\n",
       "      <td>...</td>\n",
       "      <td>...</td>\n",
       "      <td>...</td>\n",
       "      <td>...</td>\n",
       "      <td>...</td>\n",
       "      <td>...</td>\n",
       "    </tr>\n",
       "    <tr>\n",
       "      <th>54343</th>\n",
       "      <td>0.15376</td>\n",
       "      <td>-0.13587</td>\n",
       "      <td>0.397518</td>\n",
       "      <td>-0.621425</td>\n",
       "      <td>-0.122293</td>\n",
       "      <td>0.11405</td>\n",
       "      <td>-0.005002</td>\n",
       "      <td>-0.118061</td>\n",
       "      <td>7.616625e-16</td>\n",
       "      <td>1.203019</td>\n",
       "      <td>...</td>\n",
       "      <td>0</td>\n",
       "      <td>1</td>\n",
       "      <td>0</td>\n",
       "      <td>0</td>\n",
       "      <td>0</td>\n",
       "      <td>0</td>\n",
       "      <td>1</td>\n",
       "      <td>0</td>\n",
       "      <td>0</td>\n",
       "      <td>0</td>\n",
       "    </tr>\n",
       "    <tr>\n",
       "      <th>38158</th>\n",
       "      <td>0.15376</td>\n",
       "      <td>-0.13587</td>\n",
       "      <td>0.397518</td>\n",
       "      <td>-0.621425</td>\n",
       "      <td>-0.122293</td>\n",
       "      <td>0.11405</td>\n",
       "      <td>-0.450309</td>\n",
       "      <td>-0.226589</td>\n",
       "      <td>4.556752e-01</td>\n",
       "      <td>-0.771899</td>\n",
       "      <td>...</td>\n",
       "      <td>0</td>\n",
       "      <td>0</td>\n",
       "      <td>0</td>\n",
       "      <td>0</td>\n",
       "      <td>0</td>\n",
       "      <td>0</td>\n",
       "      <td>1</td>\n",
       "      <td>0</td>\n",
       "      <td>0</td>\n",
       "      <td>0</td>\n",
       "    </tr>\n",
       "    <tr>\n",
       "      <th>860</th>\n",
       "      <td>0.15376</td>\n",
       "      <td>-0.13587</td>\n",
       "      <td>-0.071740</td>\n",
       "      <td>1.312866</td>\n",
       "      <td>6.015958</td>\n",
       "      <td>0.11405</td>\n",
       "      <td>-1.261405</td>\n",
       "      <td>1.292797</td>\n",
       "      <td>-1.473825e+00</td>\n",
       "      <td>-1.512493</td>\n",
       "      <td>...</td>\n",
       "      <td>0</td>\n",
       "      <td>0</td>\n",
       "      <td>0</td>\n",
       "      <td>0</td>\n",
       "      <td>0</td>\n",
       "      <td>0</td>\n",
       "      <td>1</td>\n",
       "      <td>0</td>\n",
       "      <td>0</td>\n",
       "      <td>0</td>\n",
       "    </tr>\n",
       "    <tr>\n",
       "      <th>15795</th>\n",
       "      <td>0.15376</td>\n",
       "      <td>-0.13587</td>\n",
       "      <td>0.393145</td>\n",
       "      <td>1.312866</td>\n",
       "      <td>-0.122293</td>\n",
       "      <td>0.11405</td>\n",
       "      <td>-1.038751</td>\n",
       "      <td>0.753513</td>\n",
       "      <td>4.556752e-01</td>\n",
       "      <td>-1.310513</td>\n",
       "      <td>...</td>\n",
       "      <td>0</td>\n",
       "      <td>0</td>\n",
       "      <td>0</td>\n",
       "      <td>0</td>\n",
       "      <td>0</td>\n",
       "      <td>0</td>\n",
       "      <td>1</td>\n",
       "      <td>0</td>\n",
       "      <td>0</td>\n",
       "      <td>0</td>\n",
       "    </tr>\n",
       "    <tr>\n",
       "      <th>56422</th>\n",
       "      <td>0.15376</td>\n",
       "      <td>-0.13587</td>\n",
       "      <td>-0.030449</td>\n",
       "      <td>3.247156</td>\n",
       "      <td>6.015958</td>\n",
       "      <td>0.11405</td>\n",
       "      <td>-0.323079</td>\n",
       "      <td>-1.257809</td>\n",
       "      <td>-1.473825e+00</td>\n",
       "      <td>-0.592361</td>\n",
       "      <td>...</td>\n",
       "      <td>0</td>\n",
       "      <td>0</td>\n",
       "      <td>0</td>\n",
       "      <td>0</td>\n",
       "      <td>0</td>\n",
       "      <td>0</td>\n",
       "      <td>1</td>\n",
       "      <td>0</td>\n",
       "      <td>0</td>\n",
       "      <td>0</td>\n",
       "    </tr>\n",
       "  </tbody>\n",
       "</table>\n",
       "<p>45404 rows × 2142 columns</p>\n",
       "</div>"
      ],
      "text/plain": [
       "       RtpStateBitfield  IsSxsPassiveMode  AVProductStatesIdentifier  \\\n",
       "5329            0.15376          -0.13587                   0.397518   \n",
       "39862           0.15376          -0.13587                  -2.864348   \n",
       "46411           0.15376          -0.13587                  -2.864348   \n",
       "31801           0.15376          -0.13587                   1.066064   \n",
       "3693            0.15376          -0.13587                   0.397518   \n",
       "...                 ...               ...                        ...   \n",
       "54343           0.15376          -0.13587                   0.397518   \n",
       "38158           0.15376          -0.13587                   0.397518   \n",
       "860             0.15376          -0.13587                  -0.071740   \n",
       "15795           0.15376          -0.13587                   0.393145   \n",
       "56422           0.15376          -0.13587                  -0.030449   \n",
       "\n",
       "       AVProductsInstalled  AVProductsEnabled   HasTpm  CountryIdentifier  \\\n",
       "5329             -0.621425          -0.122293  0.11405          -1.420443   \n",
       "39862             1.312866          -0.122293  0.11405          -1.070559   \n",
       "46411             1.312866          -0.122293  0.11405           0.424402   \n",
       "31801            -0.621425          -0.122293  0.11405           0.996940   \n",
       "3693             -0.621425          -0.122293  0.11405           0.806094   \n",
       "...                    ...                ...      ...                ...   \n",
       "54343            -0.621425          -0.122293  0.11405          -0.005002   \n",
       "38158            -0.621425          -0.122293  0.11405          -0.450309   \n",
       "860               1.312866           6.015958  0.11405          -1.261405   \n",
       "15795             1.312866          -0.122293  0.11405          -1.038751   \n",
       "56422             3.247156           6.015958  0.11405          -0.323079   \n",
       "\n",
       "       CityIdentifier  OrganizationIdentifier  GeoNameIdentifier  ...  \\\n",
       "5329        -0.235400            4.556752e-01           1.203019  ...   \n",
       "39862        1.034914           -1.473825e+00          -1.321734  ...   \n",
       "46411       -0.694570            4.957843e+00          -0.076189  ...   \n",
       "31801        0.885350            4.556752e-01           0.462425  ...   \n",
       "3693         0.791279           -1.473825e+00           0.271665  ...   \n",
       "...               ...                     ...                ...  ...   \n",
       "54343       -0.118061            7.616625e-16           1.203019  ...   \n",
       "38158       -0.226589            4.556752e-01          -0.771899  ...   \n",
       "860          1.292797           -1.473825e+00          -1.512493  ...   \n",
       "15795        0.753513            4.556752e-01          -1.310513  ...   \n",
       "56422       -1.257809           -1.473825e+00          -0.592361  ...   \n",
       "\n",
       "       Census_ActivationChannel_Retail:TB:Eval  \\\n",
       "5329                                         0   \n",
       "39862                                        0   \n",
       "46411                                        0   \n",
       "31801                                        0   \n",
       "3693                                         0   \n",
       "...                                        ...   \n",
       "54343                                        0   \n",
       "38158                                        0   \n",
       "860                                          0   \n",
       "15795                                        0   \n",
       "56422                                        0   \n",
       "\n",
       "       Census_ActivationChannel_Volume:GVLK  \\\n",
       "5329                                      0   \n",
       "39862                                     0   \n",
       "46411                                     0   \n",
       "31801                                     0   \n",
       "3693                                      1   \n",
       "...                                     ...   \n",
       "54343                                     1   \n",
       "38158                                     0   \n",
       "860                                       0   \n",
       "15795                                     0   \n",
       "56422                                     0   \n",
       "\n",
       "       Census_ActivationChannel_Volume:MAK  Census_FlightRing_Disabled  \\\n",
       "5329                                     0                           0   \n",
       "39862                                    0                           0   \n",
       "46411                                    0                           0   \n",
       "31801                                    0                           0   \n",
       "3693                                     0                           0   \n",
       "...                                    ...                         ...   \n",
       "54343                                    0                           0   \n",
       "38158                                    0                           0   \n",
       "860                                      0                           0   \n",
       "15795                                    0                           0   \n",
       "56422                                    0                           0   \n",
       "\n",
       "       Census_FlightRing_NOT_SET  Census_FlightRing_RP  \\\n",
       "5329                           0                     0   \n",
       "39862                          0                     0   \n",
       "46411                          0                     0   \n",
       "31801                          0                     0   \n",
       "3693                           0                     0   \n",
       "...                          ...                   ...   \n",
       "54343                          0                     0   \n",
       "38158                          0                     0   \n",
       "860                            0                     0   \n",
       "15795                          0                     0   \n",
       "56422                          0                     0   \n",
       "\n",
       "       Census_FlightRing_Retail  Census_FlightRing_Unknown  \\\n",
       "5329                          1                          0   \n",
       "39862                         1                          0   \n",
       "46411                         1                          0   \n",
       "31801                         1                          0   \n",
       "3693                          1                          0   \n",
       "...                         ...                        ...   \n",
       "54343                         1                          0   \n",
       "38158                         1                          0   \n",
       "860                           1                          0   \n",
       "15795                         1                          0   \n",
       "56422                         1                          0   \n",
       "\n",
       "       Census_FlightRing_WIF  Census_FlightRing_WIS  \n",
       "5329                       0                      0  \n",
       "39862                      0                      0  \n",
       "46411                      0                      0  \n",
       "31801                      0                      0  \n",
       "3693                       0                      0  \n",
       "...                      ...                    ...  \n",
       "54343                      0                      0  \n",
       "38158                      0                      0  \n",
       "860                        0                      0  \n",
       "15795                      0                      0  \n",
       "56422                      0                      0  \n",
       "\n",
       "[45404 rows x 2142 columns]"
      ]
     },
     "execution_count": 32,
     "metadata": {},
     "output_type": "execute_result"
    }
   ],
   "source": [
    "X_train_final=pd.concat([X_train[con_cols],oe_train_final],axis=1)\n",
    "X_test_final=pd.concat([X_test[con_cols],oe_test_final],axis=1)\n",
    "\n",
    "X_train_final\n"
   ]
  },
  {
   "cell_type": "code",
   "execution_count": 33,
   "id": "bdc80855",
   "metadata": {},
   "outputs": [
    {
     "data": {
      "text/plain": [
       "LogisticRegression()"
      ]
     },
     "execution_count": 33,
     "metadata": {},
     "output_type": "execute_result"
    }
   ],
   "source": [
    "#logistic regression\n",
    "logreg=LogisticRegression()\n",
    "\n",
    "logreg.fit(X_train_final,Y_train)"
   ]
  },
  {
   "cell_type": "code",
   "execution_count": 18,
   "id": "50cb5a98",
   "metadata": {},
   "outputs": [
    {
     "data": {
      "text/plain": [
       "array([1, 1, 0, ..., 0, 1, 0], dtype=int64)"
      ]
     },
     "execution_count": 18,
     "metadata": {},
     "output_type": "execute_result"
    }
   ],
   "source": [
    "pred=logreg.predict(X_test_final)\n",
    "\n",
    "pred"
   ]
  },
  {
   "cell_type": "code",
   "execution_count": 19,
   "id": "ad183682",
   "metadata": {},
   "outputs": [
    {
     "data": {
      "text/plain": [
       "array([[0.42529578, 0.57470422],\n",
       "       [0.47046399, 0.52953601],\n",
       "       [0.84484428, 0.15515572],\n",
       "       ...,\n",
       "       [0.57884473, 0.42115527],\n",
       "       [0.3140798 , 0.6859202 ],\n",
       "       [0.78028874, 0.21971126]])"
      ]
     },
     "execution_count": 19,
     "metadata": {},
     "output_type": "execute_result"
    }
   ],
   "source": [
    "probabs=logreg.predict_proba(X_test_final)    #Returns the probability\n",
    "probabs"
   ]
  },
  {
   "cell_type": "code",
   "execution_count": 20,
   "id": "b83cf6aa",
   "metadata": {},
   "outputs": [
    {
     "data": {
      "text/plain": [
       "array([0.57470422, 0.52953601, 0.15515572, ..., 0.42115527, 0.6859202 ,\n",
       "       0.21971126])"
      ]
     },
     "execution_count": 20,
     "metadata": {},
     "output_type": "execute_result"
    }
   ],
   "source": [
    "pos_probabs=probabs[::,1]\n",
    "\n",
    "pos_probabs"
   ]
  },
  {
   "cell_type": "code",
   "execution_count": 21,
   "id": "12dbd793",
   "metadata": {},
   "outputs": [
    {
     "data": {
      "text/plain": [
       "(array([0.        , 0.        , 0.        , ..., 0.99947762, 0.99947762,\n",
       "        1.        ]),\n",
       " array([0.00000000e+00, 1.78284899e-04, 1.24799429e-03, ...,\n",
       "        9.99821715e-01, 1.00000000e+00, 1.00000000e+00]),\n",
       " array([1.99852877, 0.99852877, 0.95325194, ..., 0.02451739, 0.02373759,\n",
       "        0.02139908]))"
      ]
     },
     "execution_count": 21,
     "metadata": {},
     "output_type": "execute_result"
    }
   ],
   "source": [
    "#AUC-ROC curve\n",
    "fpr,tpr,thresholds=roc_curve(Y_test,pos_probabs)\n",
    "\n",
    "fpr,tpr,thresholds"
   ]
  },
  {
   "cell_type": "code",
   "execution_count": 22,
   "id": "72f6f295",
   "metadata": {},
   "outputs": [
    {
     "data": {
      "text/plain": [
       "0.6251086418754317"
      ]
     },
     "execution_count": 22,
     "metadata": {},
     "output_type": "execute_result"
    },
    {
     "data": {
      "image/png": "[encoded data removed]",
      "text/plain": [
       "<Figure size 432x288 with 1 Axes>"
      ]
     },
     "metadata": {
      "needs_background": "light"
     },
     "output_type": "display_data"
    }
   ],
   "source": [
    "plt.plot(fpr,tpr)\n",
    "plt.xlabel('False Positive Rate')\n",
    "plt.ylabel('True Positive Rate')\n",
    "plt.title('AUC-ROC Curve')\n",
    "\n",
    "roc_auc_score(Y_test,pred)"
   ]
  },
  {
   "cell_type": "code",
   "execution_count": 23,
   "id": "5ff9aec8",
   "metadata": {},
   "outputs": [
    {
     "data": {
      "text/plain": [
       "array([[3580, 2163],\n",
       "       [2093, 3516]], dtype=int64)"
      ]
     },
     "execution_count": 23,
     "metadata": {},
     "output_type": "execute_result"
    }
   ],
   "source": [
    "#confusion matrix\n",
    "\n",
    "confusion_matrix(Y_test,pred)"
   ]
  },
  {
   "cell_type": "code",
   "execution_count": 24,
   "id": "ab205ad3",
   "metadata": {},
   "outputs": [
    {
     "data": {
      "text/plain": [
       "0.6191230850501849"
      ]
     },
     "execution_count": 24,
     "metadata": {},
     "output_type": "execute_result"
    }
   ],
   "source": [
    "#precision score\n",
    "\n",
    "precision_score(Y_test,pred)"
   ]
  },
  {
   "cell_type": "code",
   "execution_count": 25,
   "id": "f9992eef",
   "metadata": {},
   "outputs": [
    {
     "data": {
      "text/plain": [
       "0.6268497058299162"
      ]
     },
     "execution_count": 25,
     "metadata": {},
     "output_type": "execute_result"
    }
   ],
   "source": [
    "#recall score\n",
    "\n",
    "recall_score(Y_test,pred)"
   ]
  },
  {
   "cell_type": "code",
   "execution_count": 26,
   "id": "f76534fb",
   "metadata": {},
   "outputs": [
    {
     "data": {
      "text/plain": [
       "0.622962437987243"
      ]
     },
     "execution_count": 26,
     "metadata": {},
     "output_type": "execute_result"
    }
   ],
   "source": [
    "f1_score(Y_test,pred)"
   ]
  },
  {
   "cell_type": "markdown",
   "id": "f95cc9bb",
   "metadata": {},
   "source": [
    "# Decision tree classifier"
   ]
  },
  {
   "cell_type": "code",
   "execution_count": 36,
   "id": "e66e4ed5",
   "metadata": {},
   "outputs": [
    {
     "data": {
      "text/plain": [
       "DecisionTreeClassifier()"
      ]
     },
     "execution_count": 36,
     "metadata": {},
     "output_type": "execute_result"
    }
   ],
   "source": [
    "from sklearn.tree import DecisionTreeClassifier\n",
    "\n",
    "dtc=DecisionTreeClassifier()\n",
    "\n",
    "dtc.fit(X_train_final,Y_train)"
   ]
  },
  {
   "cell_type": "code",
   "execution_count": 55,
   "id": "d04745b7",
   "metadata": {},
   "outputs": [],
   "source": [
    "dtc_test_pred=dtc.predict(X_test_final)\n",
    "dtc_train_pred=dtc.predict(X_train_final)\n"
   ]
  },
  {
   "cell_type": "code",
   "execution_count": 56,
   "id": "c13504e8",
   "metadata": {},
   "outputs": [],
   "source": [
    "dtc_probas=dtc.predict_proba(X_test_final)\n",
    "pos_probabs=dtc_probas[::,1]"
   ]
  },
  {
   "cell_type": "code",
   "execution_count": 57,
   "id": "5a484aab",
   "metadata": {},
   "outputs": [
    {
     "data": {
      "text/plain": [
       "(array([0.        , 0.43687968, 1.        ]),\n",
       " array([0.        , 0.56427171, 1.        ]),\n",
       " array([2., 1., 0.]))"
      ]
     },
     "execution_count": 57,
     "metadata": {},
     "output_type": "execute_result"
    }
   ],
   "source": [
    "#AUC-ROC curve\n",
    "fpr,tpr,thresholds=roc_curve(Y_test,pos_probabs)\n",
    "\n",
    "fpr,tpr,thresholds"
   ]
  },
  {
   "cell_type": "code",
   "execution_count": 61,
   "id": "a773d063",
   "metadata": {},
   "outputs": [
    {
     "data": {
      "text/plain": [
       "0.563696013288263"
      ]
     },
     "execution_count": 61,
     "metadata": {},
     "output_type": "execute_result"
    },
    {
     "data": {
      "image/png": "[encoded data removed]",
      "text/plain": [
       "<Figure size 432x288 with 1 Axes>"
      ]
     },
     "metadata": {
      "needs_background": "light"
     },
     "output_type": "display_data"
    }
   ],
   "source": [
    "plt.plot(fpr,tpr)\n",
    "plt.xlabel('False Positive Rate')\n",
    "plt.ylabel('True Positive Rate')\n",
    "plt.title('AUC-ROC Curve')\n",
    "\n",
    "roc_auc_score(Y_test,dtc_test_pred)"
   ]
  },
  {
   "cell_type": "code",
   "execution_count": 62,
   "id": "aac65eae",
   "metadata": {},
   "outputs": [
    {
     "data": {
      "text/plain": [
       "array([[3234, 2509],\n",
       "       [2444, 3165]], dtype=int64)"
      ]
     },
     "execution_count": 62,
     "metadata": {},
     "output_type": "execute_result"
    }
   ],
   "source": [
    "#confusion matrix\n",
    "\n",
    "confusion_matrix(Y_test,dtc_test_pred)"
   ]
  },
  {
   "cell_type": "code",
   "execution_count": 63,
   "id": "a04fd809",
   "metadata": {},
   "outputs": [
    {
     "data": {
      "text/plain": [
       "0.5578075431794148"
      ]
     },
     "execution_count": 63,
     "metadata": {},
     "output_type": "execute_result"
    }
   ],
   "source": [
    "#precision score\n",
    "\n",
    "precision_score(Y_test,dtc_test_pred)"
   ]
  },
  {
   "cell_type": "code",
   "execution_count": 64,
   "id": "b1362b94",
   "metadata": {},
   "outputs": [
    {
     "data": {
      "text/plain": [
       "0.564271706186486"
      ]
     },
     "execution_count": 64,
     "metadata": {},
     "output_type": "execute_result"
    }
   ],
   "source": [
    "#recall score\n",
    "\n",
    "recall_score(Y_test,dtc_test_pred)"
   ]
  },
  {
   "cell_type": "code",
   "execution_count": 65,
   "id": "14215299",
   "metadata": {},
   "outputs": [
    {
     "data": {
      "text/plain": [
       "0.5610210050518479"
      ]
     },
     "execution_count": 65,
     "metadata": {},
     "output_type": "execute_result"
    }
   ],
   "source": [
    "f1_score(Y_test,dtc_test_pred)"
   ]
  },
  {
   "cell_type": "code",
   "execution_count": 69,
   "id": "6a365c7d",
   "metadata": {},
   "outputs": [
    {
     "name": "stdout",
     "output_type": "stream",
     "text": [
      "Train accuracy : 1.0\n",
      "Test accuracy : 0.5636892177589852\n"
     ]
    }
   ],
   "source": [
    "from sklearn.metrics import accuracy_score\n",
    "\n",
    "print(\"Train accuracy :\",accuracy_score(Y_train,dtc_train_pred))\n",
    "print(\"Test accuracy :\",accuracy_score(Y_test,dtc_test_pred))"
   ]
  },
  {
   "cell_type": "code",
   "execution_count": null,
   "id": "112f2346",
   "metadata": {},
   "outputs": [],
   "source": [
    "from sklearn.tree import plot_tree\n",
    "\n",
    "plt.figure(figsize=(25,10))\n",
    "plot_tree(dtc,filled=True,rounded=True,fontsize=14)"
   ]
  }
 ],
 "metadata": {
  "kernelspec": {
   "display_name": "Python 3",
   "language": "python",
   "name": "python3"
  },
  "language_info": {
   "codemirror_mode": {
    "name": "ipython",
    "version": 3
   },
   "file_extension": ".py",
   "mimetype": "text/x-python",
   "name": "python",
   "nbconvert_exporter": "python",
   "pygments_lexer": "ipython3",
   "version": "3.8.8"
  }
 },
 "nbformat": 4,
 "nbformat_minor": 5
}
